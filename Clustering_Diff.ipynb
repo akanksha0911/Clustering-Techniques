{
  "nbformat": 4,
  "nbformat_minor": 0,
  "metadata": {
    "colab": {
      "name": "Clustering_Diff.ipynb",
      "provenance": [],
      "mount_file_id": "1nSizTtPeMjywPxJyAKpTbkU9wCoWIq4R",
      "authorship_tag": "ABX9TyNQr/a9hNVN32VlMYtzkFDv",
      "include_colab_link": true
    },
    "kernelspec": {
      "name": "python3",
      "display_name": "Python 3"
    },
    "language_info": {
      "name": "python"
    }
  },
  "cells": [
    {
      "cell_type": "markdown",
      "metadata": {
        "id": "view-in-github",
        "colab_type": "text"
      },
      "source": [
        "<a href=\"https://colab.research.google.com/github/akanksha0911/Clustering-Techniques/blob/main/Clustering_Diff.ipynb\" target=\"_parent\"><img src=\"https://colab.research.google.com/assets/colab-badge.svg\" alt=\"Open In Colab\"/></a>"
      ]
    },
    {
      "cell_type": "markdown",
      "metadata": {
        "id": "pAU_o3VylzVW"
      },
      "source": [
        "**bold text**\n",
        "\n",
        "\n"
      ]
    },
    {
      "cell_type": "code",
      "metadata": {
        "id": "6JpwUMB8HTMT"
      },
      "source": [
        "# Importing Libs\n",
        "\n",
        "from sklearn.cluster import KMeans\n",
        "import pandas as pd\n",
        "import numpy as np\n",
        "from sklearn.preprocessing import MinMaxScaler\n",
        "import seaborn as sns \n",
        "import plotly as py\n",
        "import plotly.graph_objs as go\n",
        "from matplotlib import pyplot as plt\n",
        "%matplotlib inline\n"
      ],
      "execution_count": null,
      "outputs": []
    },
    {
      "cell_type": "markdown",
      "metadata": {
        "id": "Bu6g1Sn5YVCQ"
      },
      "source": [
        "**Uploading the data**"
      ]
    },
    {
      "cell_type": "code",
      "metadata": {
        "colab": {
          "base_uri": "https://localhost:8080/",
          "height": 206
        },
        "id": "PmrHgu55YY3J",
        "outputId": "acf148d1-ad92-4577-a942-0287553ce03b"
      },
      "source": [
        "df = pd.read_csv(\"/content/drive/MyDrive/Kaggle_data/Mall_Customers.csv\")\n",
        "df.head()"
      ],
      "execution_count": null,
      "outputs": [
        {
          "output_type": "execute_result",
          "data": {
            "text/html": [
              "<div>\n",
              "<style scoped>\n",
              "    .dataframe tbody tr th:only-of-type {\n",
              "        vertical-align: middle;\n",
              "    }\n",
              "\n",
              "    .dataframe tbody tr th {\n",
              "        vertical-align: top;\n",
              "    }\n",
              "\n",
              "    .dataframe thead th {\n",
              "        text-align: right;\n",
              "    }\n",
              "</style>\n",
              "<table border=\"1\" class=\"dataframe\">\n",
              "  <thead>\n",
              "    <tr style=\"text-align: right;\">\n",
              "      <th></th>\n",
              "      <th>CustomerID</th>\n",
              "      <th>Gender</th>\n",
              "      <th>Age</th>\n",
              "      <th>Annual Income (k$)</th>\n",
              "      <th>Spending Score (1-100)</th>\n",
              "    </tr>\n",
              "  </thead>\n",
              "  <tbody>\n",
              "    <tr>\n",
              "      <th>0</th>\n",
              "      <td>1</td>\n",
              "      <td>Male</td>\n",
              "      <td>19</td>\n",
              "      <td>15</td>\n",
              "      <td>39</td>\n",
              "    </tr>\n",
              "    <tr>\n",
              "      <th>1</th>\n",
              "      <td>2</td>\n",
              "      <td>Male</td>\n",
              "      <td>21</td>\n",
              "      <td>15</td>\n",
              "      <td>81</td>\n",
              "    </tr>\n",
              "    <tr>\n",
              "      <th>2</th>\n",
              "      <td>3</td>\n",
              "      <td>Female</td>\n",
              "      <td>20</td>\n",
              "      <td>16</td>\n",
              "      <td>6</td>\n",
              "    </tr>\n",
              "    <tr>\n",
              "      <th>3</th>\n",
              "      <td>4</td>\n",
              "      <td>Female</td>\n",
              "      <td>23</td>\n",
              "      <td>16</td>\n",
              "      <td>77</td>\n",
              "    </tr>\n",
              "    <tr>\n",
              "      <th>4</th>\n",
              "      <td>5</td>\n",
              "      <td>Female</td>\n",
              "      <td>31</td>\n",
              "      <td>17</td>\n",
              "      <td>40</td>\n",
              "    </tr>\n",
              "  </tbody>\n",
              "</table>\n",
              "</div>"
            ],
            "text/plain": [
              "   CustomerID  Gender  Age  Annual Income (k$)  Spending Score (1-100)\n",
              "0           1    Male   19                  15                      39\n",
              "1           2    Male   21                  15                      81\n",
              "2           3  Female   20                  16                       6\n",
              "3           4  Female   23                  16                      77\n",
              "4           5  Female   31                  17                      40"
            ]
          },
          "metadata": {},
          "execution_count": 77
        }
      ]
    },
    {
      "cell_type": "code",
      "metadata": {
        "colab": {
          "base_uri": "https://localhost:8080/"
        },
        "id": "3UM_YTJ6ZvGP",
        "outputId": "d7736f02-26e2-4b40-adcd-da26d8bef6d2"
      },
      "source": [
        "df.shape"
      ],
      "execution_count": null,
      "outputs": [
        {
          "output_type": "execute_result",
          "data": {
            "text/plain": [
              "(200, 5)"
            ]
          },
          "metadata": {},
          "execution_count": 78
        }
      ]
    },
    {
      "cell_type": "code",
      "metadata": {
        "colab": {
          "base_uri": "https://localhost:8080/",
          "height": 300
        },
        "id": "lUOgrpHaZyCx",
        "outputId": "26e1ae05-0fcf-49e8-884b-3b7e186ab145"
      },
      "source": [
        "df.describe()"
      ],
      "execution_count": null,
      "outputs": [
        {
          "output_type": "execute_result",
          "data": {
            "text/html": [
              "<div>\n",
              "<style scoped>\n",
              "    .dataframe tbody tr th:only-of-type {\n",
              "        vertical-align: middle;\n",
              "    }\n",
              "\n",
              "    .dataframe tbody tr th {\n",
              "        vertical-align: top;\n",
              "    }\n",
              "\n",
              "    .dataframe thead th {\n",
              "        text-align: right;\n",
              "    }\n",
              "</style>\n",
              "<table border=\"1\" class=\"dataframe\">\n",
              "  <thead>\n",
              "    <tr style=\"text-align: right;\">\n",
              "      <th></th>\n",
              "      <th>CustomerID</th>\n",
              "      <th>Age</th>\n",
              "      <th>Annual Income (k$)</th>\n",
              "      <th>Spending Score (1-100)</th>\n",
              "    </tr>\n",
              "  </thead>\n",
              "  <tbody>\n",
              "    <tr>\n",
              "      <th>count</th>\n",
              "      <td>200.000000</td>\n",
              "      <td>200.000000</td>\n",
              "      <td>200.000000</td>\n",
              "      <td>200.000000</td>\n",
              "    </tr>\n",
              "    <tr>\n",
              "      <th>mean</th>\n",
              "      <td>100.500000</td>\n",
              "      <td>38.850000</td>\n",
              "      <td>60.560000</td>\n",
              "      <td>50.200000</td>\n",
              "    </tr>\n",
              "    <tr>\n",
              "      <th>std</th>\n",
              "      <td>57.879185</td>\n",
              "      <td>13.969007</td>\n",
              "      <td>26.264721</td>\n",
              "      <td>25.823522</td>\n",
              "    </tr>\n",
              "    <tr>\n",
              "      <th>min</th>\n",
              "      <td>1.000000</td>\n",
              "      <td>18.000000</td>\n",
              "      <td>15.000000</td>\n",
              "      <td>1.000000</td>\n",
              "    </tr>\n",
              "    <tr>\n",
              "      <th>25%</th>\n",
              "      <td>50.750000</td>\n",
              "      <td>28.750000</td>\n",
              "      <td>41.500000</td>\n",
              "      <td>34.750000</td>\n",
              "    </tr>\n",
              "    <tr>\n",
              "      <th>50%</th>\n",
              "      <td>100.500000</td>\n",
              "      <td>36.000000</td>\n",
              "      <td>61.500000</td>\n",
              "      <td>50.000000</td>\n",
              "    </tr>\n",
              "    <tr>\n",
              "      <th>75%</th>\n",
              "      <td>150.250000</td>\n",
              "      <td>49.000000</td>\n",
              "      <td>78.000000</td>\n",
              "      <td>73.000000</td>\n",
              "    </tr>\n",
              "    <tr>\n",
              "      <th>max</th>\n",
              "      <td>200.000000</td>\n",
              "      <td>70.000000</td>\n",
              "      <td>137.000000</td>\n",
              "      <td>99.000000</td>\n",
              "    </tr>\n",
              "  </tbody>\n",
              "</table>\n",
              "</div>"
            ],
            "text/plain": [
              "       CustomerID         Age  Annual Income (k$)  Spending Score (1-100)\n",
              "count  200.000000  200.000000          200.000000              200.000000\n",
              "mean   100.500000   38.850000           60.560000               50.200000\n",
              "std     57.879185   13.969007           26.264721               25.823522\n",
              "min      1.000000   18.000000           15.000000                1.000000\n",
              "25%     50.750000   28.750000           41.500000               34.750000\n",
              "50%    100.500000   36.000000           61.500000               50.000000\n",
              "75%    150.250000   49.000000           78.000000               73.000000\n",
              "max    200.000000   70.000000          137.000000               99.000000"
            ]
          },
          "metadata": {},
          "execution_count": 79
        }
      ]
    },
    {
      "cell_type": "code",
      "metadata": {
        "colab": {
          "base_uri": "https://localhost:8080/"
        },
        "id": "gA_JQUNOZ2ZR",
        "outputId": "2e1d8e39-8e0f-415c-a08b-e6cf5143e570"
      },
      "source": [
        "df.isnull().sum()"
      ],
      "execution_count": null,
      "outputs": [
        {
          "output_type": "execute_result",
          "data": {
            "text/plain": [
              "CustomerID                0\n",
              "Gender                    0\n",
              "Age                       0\n",
              "Annual Income (k$)        0\n",
              "Spending Score (1-100)    0\n",
              "dtype: int64"
            ]
          },
          "metadata": {},
          "execution_count": 80
        }
      ]
    },
    {
      "cell_type": "markdown",
      "metadata": {
        "id": "qbtzJxUUZ8uI"
      },
      "source": [
        "Data Visualization\n"
      ]
    },
    {
      "cell_type": "code",
      "metadata": {
        "colab": {
          "base_uri": "https://localhost:8080/",
          "height": 632
        },
        "id": "JBX1A_GsZ-cy",
        "outputId": "ee1f6421-af7a-4248-fd9c-0a4e06707d9a"
      },
      "source": [
        "# Histograms\n",
        "\n",
        "# plt.style.use('fivethirtyeight')\n",
        "\n",
        "plt.figure(1 , figsize = (15 , 6))\n",
        "n = 0 \n",
        "for x in ['Age' , 'Annual Income (k$)' , 'Spending Score (1-100)']:\n",
        "    n += 1\n",
        "    plt.subplot(1 , 3 , n)\n",
        "    plt.subplots_adjust(hspace =0.5 , wspace = 0.5)\n",
        "    sns.distplot(df[x] , bins = 20)\n",
        "    plt.title('Distplot of {}'.format(x))\n",
        "plt.show()"
      ],
      "execution_count": null,
      "outputs": [
        {
          "output_type": "stream",
          "name": "stderr",
          "text": [
            "/usr/local/lib/python3.7/dist-packages/seaborn/distributions.py:2619: FutureWarning:\n",
            "\n",
            "`distplot` is a deprecated function and will be removed in a future version. Please adapt your code to use either `displot` (a figure-level function with similar flexibility) or `histplot` (an axes-level function for histograms).\n",
            "\n",
            "/usr/local/lib/python3.7/dist-packages/seaborn/distributions.py:2619: FutureWarning:\n",
            "\n",
            "`distplot` is a deprecated function and will be removed in a future version. Please adapt your code to use either `displot` (a figure-level function with similar flexibility) or `histplot` (an axes-level function for histograms).\n",
            "\n",
            "/usr/local/lib/python3.7/dist-packages/seaborn/distributions.py:2619: FutureWarning:\n",
            "\n",
            "`distplot` is a deprecated function and will be removed in a future version. Please adapt your code to use either `displot` (a figure-level function with similar flexibility) or `histplot` (an axes-level function for histograms).\n",
            "\n"
          ]
        },
        {
          "output_type": "display_data",
          "data": {
            "image/png": "[encoded data removed]",
            "text/plain": [
              "<Figure size 1080x432 with 3 Axes>"
            ]
          },
          "metadata": {
            "needs_background": "light"
          }
        }
      ]
    },
    {
      "cell_type": "code",
      "metadata": {
        "colab": {
          "base_uri": "https://localhost:8080/",
          "height": 333
        },
        "id": "9AXTiN-9aor4",
        "outputId": "bdb67443-a892-4a54-ae72-0cbeb484e841"
      },
      "source": [
        "# Count Plot of Gender\n",
        "\n",
        "plt.figure(1 , figsize = (15 , 5))\n",
        "sns.countplot(y = 'Gender' , data = df)\n",
        "plt.show()"
      ],
      "execution_count": null,
      "outputs": [
        {
          "output_type": "display_data",
          "data": {
            "image/png": "[encoded data removed]",
            "text/plain": [
              "<Figure size 1080x360 with 1 Axes>"
            ]
          },
          "metadata": {
            "needs_background": "light"
          }
        }
      ]
    },
    {
      "cell_type": "markdown",
      "metadata": {
        "id": "vG3Jp-Dobjm4"
      },
      "source": [
        "## **K-Means clustering**\n"
      ]
    },
    {
      "cell_type": "markdown",
      "metadata": {
        "id": "wn7tcV83gfsM"
      },
      "source": [
        "Using Elbow Method to find Optimal value of K (number of clusters).\n",
        "Here, WCSS stands for Within-Cluster Sum of Square"
      ]
    },
    {
      "cell_type": "code",
      "metadata": {
        "id": "-JLeCEjcbmTi"
      },
      "source": [
        "\n",
        "\n",
        "wcss = [] #empty array\n",
        "for i in range(1,11):\n",
        "    kmeans = KMeans(n_clusters = i, init = 'k-means++', random_state = 42)\n",
        "    kmeans.fit(df[['Age','Annual Income (k$)']])\n",
        "    wcss.append(kmeans.inertia_)\n"
      ],
      "execution_count": null,
      "outputs": []
    },
    {
      "cell_type": "code",
      "metadata": {
        "colab": {
          "base_uri": "https://localhost:8080/",
          "height": 278
        },
        "id": "_1c8v9bPg_bX",
        "outputId": "0da0a265-318f-4bfa-9771-81fa30a16c09"
      },
      "source": [
        "#plotting graph\n",
        "plt.plot(range(1,11), wcss)\n",
        "plt.xlabel('number of clusters')\n",
        "plt.ylabel('wcss')\n",
        "plt.show()"
      ],
      "execution_count": null,
      "outputs": [
        {
          "output_type": "display_data",
          "data": {
            "image/png": "[encoded data removed]",
            "text/plain": [
              "<Figure size 432x288 with 1 Axes>"
            ]
          },
          "metadata": {
            "needs_background": "light"
          }
        }
      ]
    },
    {
      "cell_type": "markdown",
      "metadata": {
        "id": "Q1UzXoanhlaE"
      },
      "source": [
        "The bend (or elbow) here at K=5 indicates the optimal number of cluster"
      ]
    },
    {
      "cell_type": "code",
      "metadata": {
        "colab": {
          "base_uri": "https://localhost:8080/",
          "height": 206
        },
        "id": "uLg3Xzogh0lN",
        "outputId": "6dfada82-12ef-4a6a-b777-19636cb7536f"
      },
      "source": [
        "# Preprocessing using min max scaler\n",
        "\n",
        "scaler = MinMaxScaler()\n",
        "\n",
        "scaler.fit(df[['Annual Income (k$)']])\n",
        "df['Annual Income (k$)'] = scaler.transform(df[['Annual Income (k$)']])\n",
        "\n",
        "scaler.fit(df[['Age']])\n",
        "df['Age'] = scaler.transform(df[['Age']])\n",
        "\n",
        "df.head()"
      ],
      "execution_count": null,
      "outputs": [
        {
          "output_type": "execute_result",
          "data": {
            "text/html": [
              "<div>\n",
              "<style scoped>\n",
              "    .dataframe tbody tr th:only-of-type {\n",
              "        vertical-align: middle;\n",
              "    }\n",
              "\n",
              "    .dataframe tbody tr th {\n",
              "        vertical-align: top;\n",
              "    }\n",
              "\n",
              "    .dataframe thead th {\n",
              "        text-align: right;\n",
              "    }\n",
              "</style>\n",
              "<table border=\"1\" class=\"dataframe\">\n",
              "  <thead>\n",
              "    <tr style=\"text-align: right;\">\n",
              "      <th></th>\n",
              "      <th>CustomerID</th>\n",
              "      <th>Gender</th>\n",
              "      <th>Age</th>\n",
              "      <th>Annual Income (k$)</th>\n",
              "      <th>Spending Score (1-100)</th>\n",
              "    </tr>\n",
              "  </thead>\n",
              "  <tbody>\n",
              "    <tr>\n",
              "      <th>0</th>\n",
              "      <td>1</td>\n",
              "      <td>Male</td>\n",
              "      <td>0.019231</td>\n",
              "      <td>0.000000</td>\n",
              "      <td>39</td>\n",
              "    </tr>\n",
              "    <tr>\n",
              "      <th>1</th>\n",
              "      <td>2</td>\n",
              "      <td>Male</td>\n",
              "      <td>0.057692</td>\n",
              "      <td>0.000000</td>\n",
              "      <td>81</td>\n",
              "    </tr>\n",
              "    <tr>\n",
              "      <th>2</th>\n",
              "      <td>3</td>\n",
              "      <td>Female</td>\n",
              "      <td>0.038462</td>\n",
              "      <td>0.008197</td>\n",
              "      <td>6</td>\n",
              "    </tr>\n",
              "    <tr>\n",
              "      <th>3</th>\n",
              "      <td>4</td>\n",
              "      <td>Female</td>\n",
              "      <td>0.096154</td>\n",
              "      <td>0.008197</td>\n",
              "      <td>77</td>\n",
              "    </tr>\n",
              "    <tr>\n",
              "      <th>4</th>\n",
              "      <td>5</td>\n",
              "      <td>Female</td>\n",
              "      <td>0.250000</td>\n",
              "      <td>0.016393</td>\n",
              "      <td>40</td>\n",
              "    </tr>\n",
              "  </tbody>\n",
              "</table>\n",
              "</div>"
            ],
            "text/plain": [
              "   CustomerID  Gender       Age  Annual Income (k$)  Spending Score (1-100)\n",
              "0           1    Male  0.019231            0.000000                      39\n",
              "1           2    Male  0.057692            0.000000                      81\n",
              "2           3  Female  0.038462            0.008197                       6\n",
              "3           4  Female  0.096154            0.008197                      77\n",
              "4           5  Female  0.250000            0.016393                      40"
            ]
          },
          "metadata": {},
          "execution_count": 85
        }
      ]
    },
    {
      "cell_type": "code",
      "metadata": {
        "colab": {
          "base_uri": "https://localhost:8080/",
          "height": 282
        },
        "id": "DUTrws3Nh5PE",
        "outputId": "5c01914a-23ae-430f-e5de-32e214abca6d"
      },
      "source": [
        "plt.scatter(df.Age,df['Annual Income (k$)'])"
      ],
      "execution_count": null,
      "outputs": [
        {
          "output_type": "execute_result",
          "data": {
            "text/plain": [
              "<matplotlib.collections.PathCollection at 0x7f481713e3d0>"
            ]
          },
          "metadata": {},
          "execution_count": 86
        },
        {
          "output_type": "display_data",
          "data": {
            "image/png": "[encoded data removed]",
            "text/plain": [
              "<Figure size 432x288 with 1 Axes>"
            ]
          },
          "metadata": {
            "needs_background": "light"
          }
        }
      ]
    },
    {
      "cell_type": "code",
      "metadata": {
        "colab": {
          "base_uri": "https://localhost:8080/"
        },
        "id": "OQLc9oEqjfiK",
        "outputId": "e1de9da7-b3dc-4a7f-80d3-5a1e114aa33d"
      },
      "source": [
        "kmeans = KMeans(n_clusters=5, init = \"k-means++\", random_state=42)\n",
        "y_kmeans = kmeans.fit_predict(df[['Age','Annual Income (k$)']])\n",
        "y_kmeans"
      ],
      "execution_count": null,
      "outputs": [
        {
          "output_type": "execute_result",
          "data": {
            "text/plain": [
              "array([1, 1, 1, 1, 1, 1, 1, 1, 2, 1, 2, 1, 2, 1, 1, 1, 1, 1, 2, 1, 1, 1,\n",
              "       4, 1, 2, 1, 4, 1, 1, 1, 2, 1, 2, 1, 4, 1, 4, 1, 1, 1, 2, 1, 4, 1,\n",
              "       4, 1, 4, 1, 1, 1, 4, 1, 1, 2, 4, 4, 4, 2, 1, 2, 2, 3, 2, 2, 2, 3,\n",
              "       4, 2, 3, 1, 2, 4, 2, 2, 2, 3, 4, 4, 3, 4, 2, 4, 2, 4, 3, 4, 2, 3,\n",
              "       3, 4, 2, 3, 4, 4, 3, 3, 4, 3, 4, 3, 3, 4, 2, 3, 4, 3, 2, 4, 2, 2,\n",
              "       2, 3, 4, 3, 3, 3, 2, 4, 4, 4, 3, 4, 4, 4, 3, 3, 4, 4, 2, 4, 4, 4,\n",
              "       3, 3, 3, 3, 4, 3, 3, 0, 2, 3, 3, 3, 3, 3, 4, 3, 0, 0, 4, 0, 4, 0,\n",
              "       4, 3, 0, 3, 0, 3, 2, 3, 3, 0, 4, 0, 0, 0, 0, 0, 0, 0, 0, 0, 4, 0,\n",
              "       2, 3, 2, 0, 0, 0, 0, 0, 0, 0, 0, 0, 0, 0, 0, 0, 0, 0, 0, 0, 0, 0,\n",
              "       0, 0], dtype=int32)"
            ]
          },
          "metadata": {},
          "execution_count": 87
        }
      ]
    },
    {
      "cell_type": "code",
      "metadata": {
        "colab": {
          "base_uri": "https://localhost:8080/",
          "height": 206
        },
        "id": "eqyka_nBkdJp",
        "outputId": "0b79cb98-7ba0-43e4-c60f-fea8a7f1d167"
      },
      "source": [
        "df['cluster']=y_kmeans\n",
        "df.head()"
      ],
      "execution_count": null,
      "outputs": [
        {
          "output_type": "execute_result",
          "data": {
            "text/html": [
              "<div>\n",
              "<style scoped>\n",
              "    .dataframe tbody tr th:only-of-type {\n",
              "        vertical-align: middle;\n",
              "    }\n",
              "\n",
              "    .dataframe tbody tr th {\n",
              "        vertical-align: top;\n",
              "    }\n",
              "\n",
              "    .dataframe thead th {\n",
              "        text-align: right;\n",
              "    }\n",
              "</style>\n",
              "<table border=\"1\" class=\"dataframe\">\n",
              "  <thead>\n",
              "    <tr style=\"text-align: right;\">\n",
              "      <th></th>\n",
              "      <th>CustomerID</th>\n",
              "      <th>Gender</th>\n",
              "      <th>Age</th>\n",
              "      <th>Annual Income (k$)</th>\n",
              "      <th>Spending Score (1-100)</th>\n",
              "      <th>cluster</th>\n",
              "    </tr>\n",
              "  </thead>\n",
              "  <tbody>\n",
              "    <tr>\n",
              "      <th>0</th>\n",
              "      <td>1</td>\n",
              "      <td>Male</td>\n",
              "      <td>0.019231</td>\n",
              "      <td>0.000000</td>\n",
              "      <td>39</td>\n",
              "      <td>1</td>\n",
              "    </tr>\n",
              "    <tr>\n",
              "      <th>1</th>\n",
              "      <td>2</td>\n",
              "      <td>Male</td>\n",
              "      <td>0.057692</td>\n",
              "      <td>0.000000</td>\n",
              "      <td>81</td>\n",
              "      <td>1</td>\n",
              "    </tr>\n",
              "    <tr>\n",
              "      <th>2</th>\n",
              "      <td>3</td>\n",
              "      <td>Female</td>\n",
              "      <td>0.038462</td>\n",
              "      <td>0.008197</td>\n",
              "      <td>6</td>\n",
              "      <td>1</td>\n",
              "    </tr>\n",
              "    <tr>\n",
              "      <th>3</th>\n",
              "      <td>4</td>\n",
              "      <td>Female</td>\n",
              "      <td>0.096154</td>\n",
              "      <td>0.008197</td>\n",
              "      <td>77</td>\n",
              "      <td>1</td>\n",
              "    </tr>\n",
              "    <tr>\n",
              "      <th>4</th>\n",
              "      <td>5</td>\n",
              "      <td>Female</td>\n",
              "      <td>0.250000</td>\n",
              "      <td>0.016393</td>\n",
              "      <td>40</td>\n",
              "      <td>1</td>\n",
              "    </tr>\n",
              "  </tbody>\n",
              "</table>\n",
              "</div>"
            ],
            "text/plain": [
              "   CustomerID  Gender  ...  Spending Score (1-100)  cluster\n",
              "0           1    Male  ...                      39        1\n",
              "1           2    Male  ...                      81        1\n",
              "2           3  Female  ...                       6        1\n",
              "3           4  Female  ...                      77        1\n",
              "4           5  Female  ...                      40        1\n",
              "\n",
              "[5 rows x 6 columns]"
            ]
          },
          "metadata": {},
          "execution_count": 88
        }
      ]
    },
    {
      "cell_type": "code",
      "metadata": {
        "colab": {
          "base_uri": "https://localhost:8080/"
        },
        "id": "js5OS34jkj-X",
        "outputId": "86ec59ce-3765-465b-c7b6-fb17f873b68d"
      },
      "source": [
        "kmeans.cluster_centers_"
      ],
      "execution_count": null,
      "outputs": [
        {
          "output_type": "execute_result",
          "data": {
            "text/plain": [
              "array([[0.34319527, 0.67087011],\n",
              "       [0.18885602, 0.10844893],\n",
              "       [0.83846154, 0.29648712],\n",
              "       [0.13414634, 0.42602959],\n",
              "       [0.534699  , 0.35762651]])"
            ]
          },
          "metadata": {},
          "execution_count": 89
        }
      ]
    },
    {
      "cell_type": "code",
      "metadata": {
        "colab": {
          "base_uri": "https://localhost:8080/",
          "height": 282
        },
        "id": "WaScOPrCksqm",
        "outputId": "4088a4f2-3f62-4740-fd0d-7726ccf33f95"
      },
      "source": [
        "df1 = df[df.cluster==0]\n",
        "df2 = df[df.cluster==1]\n",
        "df3 = df[df.cluster==2]\n",
        "df4 = df[df.cluster==3]\n",
        "df5 = df[df.cluster==4]\n",
        "plt.scatter(df1.Age,df1['Annual Income (k$)'],color='green', label = 'CLuster 1')\n",
        "plt.scatter(df2.Age,df2['Annual Income (k$)'],color='red', label = 'CLuster 2')\n",
        "plt.scatter(df3.Age,df3['Annual Income (k$)'],color='black', label = 'CLuster 3')\n",
        "plt.scatter(df4.Age,df4['Annual Income (k$)'],color='purple', label = 'CLuster 4')\n",
        "plt.scatter(df5.Age,df5['Annual Income (k$)'],color='blue', label = 'CLuster 5')\n",
        "plt.scatter(kmeans.cluster_centers_[:,0],kmeans.cluster_centers_[:,1],s = 200, c = 'yellow', label = 'Centroids')\n",
        "plt.legend()"
      ],
      "execution_count": null,
      "outputs": [
        {
          "output_type": "execute_result",
          "data": {
            "text/plain": [
              "<matplotlib.legend.Legend at 0x7f4816cda8d0>"
            ]
          },
          "metadata": {},
          "execution_count": 90
        },
        {
          "output_type": "display_data",
          "data": {
            "image/png": "[encoded data removed]",
            "text/plain": [
              "<Figure size 432x288 with 1 Axes>"
            ]
          },
          "metadata": {
            "needs_background": "light"
          }
        }
      ]
    },
    {
      "cell_type": "markdown",
      "metadata": {
        "id": "6WAm_xu1mFpz"
      },
      "source": [
        "**Agglomerative Hierarchical Clustering. Agglomerative is the bottom up approach which is more popular than Divisive clustering. ****\n",
        "**"
      ]
    },
    {
      "cell_type": "code",
      "metadata": {
        "colab": {
          "base_uri": "https://localhost:8080/"
        },
        "id": "Tw5V7zhcGabd",
        "outputId": "7e3584f0-c8b1-4d4b-9ecd-785b8448e49d"
      },
      "source": [
        "from sklearn.cluster import AgglomerativeClustering \n",
        "\n",
        "agglom = AgglomerativeClustering(n_clusters=5, affinity='euclidean', linkage='average').fit(df[['Age','Annual Income (k$)']])\n",
        "agglom"
      ],
      "execution_count": null,
      "outputs": [
        {
          "output_type": "execute_result",
          "data": {
            "text/plain": [
              "AgglomerativeClustering(linkage='average', n_clusters=5)"
            ]
          },
          "metadata": {},
          "execution_count": 91
        }
      ]
    },
    {
      "cell_type": "code",
      "metadata": {
        "colab": {
          "base_uri": "https://localhost:8080/",
          "height": 206
        },
        "id": "_H7rOUiLILdK",
        "outputId": "6e622503-9794-43c5-cbde-e67f93591125"
      },
      "source": [
        "df['Labels'] = agglom.labels_\n",
        "df.head()"
      ],
      "execution_count": null,
      "outputs": [
        {
          "output_type": "execute_result",
          "data": {
            "text/html": [
              "<div>\n",
              "<style scoped>\n",
              "    .dataframe tbody tr th:only-of-type {\n",
              "        vertical-align: middle;\n",
              "    }\n",
              "\n",
              "    .dataframe tbody tr th {\n",
              "        vertical-align: top;\n",
              "    }\n",
              "\n",
              "    .dataframe thead th {\n",
              "        text-align: right;\n",
              "    }\n",
              "</style>\n",
              "<table border=\"1\" class=\"dataframe\">\n",
              "  <thead>\n",
              "    <tr style=\"text-align: right;\">\n",
              "      <th></th>\n",
              "      <th>CustomerID</th>\n",
              "      <th>Gender</th>\n",
              "      <th>Age</th>\n",
              "      <th>Annual Income (k$)</th>\n",
              "      <th>Spending Score (1-100)</th>\n",
              "      <th>cluster</th>\n",
              "      <th>Labels</th>\n",
              "    </tr>\n",
              "  </thead>\n",
              "  <tbody>\n",
              "    <tr>\n",
              "      <th>0</th>\n",
              "      <td>1</td>\n",
              "      <td>Male</td>\n",
              "      <td>0.019231</td>\n",
              "      <td>0.000000</td>\n",
              "      <td>39</td>\n",
              "      <td>1</td>\n",
              "      <td>0</td>\n",
              "    </tr>\n",
              "    <tr>\n",
              "      <th>1</th>\n",
              "      <td>2</td>\n",
              "      <td>Male</td>\n",
              "      <td>0.057692</td>\n",
              "      <td>0.000000</td>\n",
              "      <td>81</td>\n",
              "      <td>1</td>\n",
              "      <td>0</td>\n",
              "    </tr>\n",
              "    <tr>\n",
              "      <th>2</th>\n",
              "      <td>3</td>\n",
              "      <td>Female</td>\n",
              "      <td>0.038462</td>\n",
              "      <td>0.008197</td>\n",
              "      <td>6</td>\n",
              "      <td>1</td>\n",
              "      <td>0</td>\n",
              "    </tr>\n",
              "    <tr>\n",
              "      <th>3</th>\n",
              "      <td>4</td>\n",
              "      <td>Female</td>\n",
              "      <td>0.096154</td>\n",
              "      <td>0.008197</td>\n",
              "      <td>77</td>\n",
              "      <td>1</td>\n",
              "      <td>0</td>\n",
              "    </tr>\n",
              "    <tr>\n",
              "      <th>4</th>\n",
              "      <td>5</td>\n",
              "      <td>Female</td>\n",
              "      <td>0.250000</td>\n",
              "      <td>0.016393</td>\n",
              "      <td>40</td>\n",
              "      <td>1</td>\n",
              "      <td>0</td>\n",
              "    </tr>\n",
              "  </tbody>\n",
              "</table>\n",
              "</div>"
            ],
            "text/plain": [
              "   CustomerID  Gender       Age  ...  Spending Score (1-100)  cluster  Labels\n",
              "0           1    Male  0.019231  ...                      39        1       0\n",
              "1           2    Male  0.057692  ...                      81        1       0\n",
              "2           3  Female  0.038462  ...                       6        1       0\n",
              "3           4  Female  0.096154  ...                      77        1       0\n",
              "4           5  Female  0.250000  ...                      40        1       0\n",
              "\n",
              "[5 rows x 7 columns]"
            ]
          },
          "metadata": {},
          "execution_count": 92
        }
      ]
    },
    {
      "cell_type": "code",
      "metadata": {
        "colab": {
          "base_uri": "https://localhost:8080/",
          "height": 550
        },
        "id": "YvJRyFdSI1iS",
        "outputId": "cfedbd13-2385-4795-90ce-311b0ff7bb7f"
      },
      "source": [
        "print(agglom.fit_predict(df[['Age','Annual Income (k$)']]))\n",
        "print(agglom.fit(df[['Age','Annual Income (k$)']]))\n",
        "plt.figure(figsize=(10, 7))  \n",
        "plt.scatter(df.Age, df['Annual Income (k$)'], c=agglom.labels_, s= 80, cmap='rainbow')  \n",
        "plt.show() "
      ],
      "execution_count": null,
      "outputs": [
        {
          "output_type": "stream",
          "name": "stdout",
          "text": [
            "[0 0 0 0 0 0 0 0 2 0 2 0 2 0 0 0 0 0 2 0 0 0 2 0 2 0 2 0 2 0 2 0 2 0 2 0 2\n",
            " 0 0 0 2 0 2 0 2 0 2 0 0 0 2 0 0 2 2 2 2 2 0 2 2 0 2 2 2 0 2 2 0 0 2 2 2 2\n",
            " 2 0 2 3 0 2 2 3 2 2 0 2 2 0 3 2 2 0 2 3 3 0 2 0 2 0 0 2 2 0 2 0 2 2 2 2 2\n",
            " 0 3 0 0 0 2 2 2 2 0 3 3 3 0 3 3 3 4 3 3 3 0 3 0 3 3 3 0 3 4 3 3 3 0 3 3 3\n",
            " 3 3 3 3 3 3 3 3 3 3 3 3 4 3 0 3 4 3 3 3 3 3 3 3 3 3 4 3 4 3 4 3 3 3 3 3 3\n",
            " 3 4 3 3 3 3 3 3 3 1 3 1 1 1 1]\n",
            "AgglomerativeClustering(linkage='average', n_clusters=5)\n"
          ]
        },
        {
          "output_type": "display_data",
          "data": {
            "image/png": "[encoded data removed]",
            "text/plain": [
              "<Figure size 720x504 with 1 Axes>"
            ]
          },
          "metadata": {
            "needs_background": "light"
          }
        }
      ]
    },
    {
      "cell_type": "code",
      "metadata": {
        "colab": {
          "base_uri": "https://localhost:8080/",
          "height": 335
        },
        "id": "hSVkGsfGGh5H",
        "outputId": "8380e848-df86-4ea7-9efe-5f5cc058f481"
      },
      "source": [
        "plt.figure(figsize=(12,5)) \n",
        "plt.title(\"Dendrogram with average linkage\")  \n",
        "dend = shc.dendrogram(shc.linkage((df[['Age','Annual Income (k$)']]), method='average'))"
      ],
      "execution_count": null,
      "outputs": [
        {
          "output_type": "display_data",
          "data": {
            "image/png": "[encoded data removed]",
            "text/plain": [
              "<Figure size 864x360 with 1 Axes>"
            ]
          },
          "metadata": {
            "needs_background": "light"
          }
        }
      ]
    },
    {
      "cell_type": "code",
      "metadata": {
        "colab": {
          "base_uri": "https://localhost:8080/",
          "height": 443
        },
        "id": "bNFUKX-_LLqI",
        "outputId": "d24476da-8480-48d6-a918-ef0bcab08ea3"
      },
      "source": [
        "from scipy.spatial.distance import squareform, pdist\n",
        "dist = pd.DataFrame(squareform(pdist(df[['Age','Annual Income (k$)']]), 'euclidean'))\n",
        "dist"
      ],
      "execution_count": null,
      "outputs": [
        {
          "output_type": "execute_result",
          "data": {
            "text/html": [
              "<div>\n",
              "<style scoped>\n",
              "    .dataframe tbody tr th:only-of-type {\n",
              "        vertical-align: middle;\n",
              "    }\n",
              "\n",
              "    .dataframe tbody tr th {\n",
              "        vertical-align: top;\n",
              "    }\n",
              "\n",
              "    .dataframe thead th {\n",
              "        text-align: right;\n",
              "    }\n",
              "</style>\n",
              "<table border=\"1\" class=\"dataframe\">\n",
              "  <thead>\n",
              "    <tr style=\"text-align: right;\">\n",
              "      <th></th>\n",
              "      <th>0</th>\n",
              "      <th>1</th>\n",
              "      <th>2</th>\n",
              "      <th>3</th>\n",
              "      <th>4</th>\n",
              "      <th>5</th>\n",
              "      <th>6</th>\n",
              "      <th>7</th>\n",
              "      <th>8</th>\n",
              "      <th>9</th>\n",
              "      <th>10</th>\n",
              "      <th>11</th>\n",
              "      <th>12</th>\n",
              "      <th>13</th>\n",
              "      <th>14</th>\n",
              "      <th>15</th>\n",
              "      <th>16</th>\n",
              "      <th>17</th>\n",
              "      <th>18</th>\n",
              "      <th>19</th>\n",
              "      <th>20</th>\n",
              "      <th>21</th>\n",
              "      <th>22</th>\n",
              "      <th>23</th>\n",
              "      <th>24</th>\n",
              "      <th>25</th>\n",
              "      <th>26</th>\n",
              "      <th>27</th>\n",
              "      <th>28</th>\n",
              "      <th>29</th>\n",
              "      <th>30</th>\n",
              "      <th>31</th>\n",
              "      <th>32</th>\n",
              "      <th>33</th>\n",
              "      <th>34</th>\n",
              "      <th>35</th>\n",
              "      <th>36</th>\n",
              "      <th>37</th>\n",
              "      <th>38</th>\n",
              "      <th>39</th>\n",
              "      <th>...</th>\n",
              "      <th>160</th>\n",
              "      <th>161</th>\n",
              "      <th>162</th>\n",
              "      <th>163</th>\n",
              "      <th>164</th>\n",
              "      <th>165</th>\n",
              "      <th>166</th>\n",
              "      <th>167</th>\n",
              "      <th>168</th>\n",
              "      <th>169</th>\n",
              "      <th>170</th>\n",
              "      <th>171</th>\n",
              "      <th>172</th>\n",
              "      <th>173</th>\n",
              "      <th>174</th>\n",
              "      <th>175</th>\n",
              "      <th>176</th>\n",
              "      <th>177</th>\n",
              "      <th>178</th>\n",
              "      <th>179</th>\n",
              "      <th>180</th>\n",
              "      <th>181</th>\n",
              "      <th>182</th>\n",
              "      <th>183</th>\n",
              "      <th>184</th>\n",
              "      <th>185</th>\n",
              "      <th>186</th>\n",
              "      <th>187</th>\n",
              "      <th>188</th>\n",
              "      <th>189</th>\n",
              "      <th>190</th>\n",
              "      <th>191</th>\n",
              "      <th>192</th>\n",
              "      <th>193</th>\n",
              "      <th>194</th>\n",
              "      <th>195</th>\n",
              "      <th>196</th>\n",
              "      <th>197</th>\n",
              "      <th>198</th>\n",
              "      <th>199</th>\n",
              "    </tr>\n",
              "  </thead>\n",
              "  <tbody>\n",
              "    <tr>\n",
              "      <th>0</th>\n",
              "      <td>0.000000</td>\n",
              "      <td>0.038462</td>\n",
              "      <td>0.020905</td>\n",
              "      <td>0.077359</td>\n",
              "      <td>0.231351</td>\n",
              "      <td>0.059976</td>\n",
              "      <td>0.308673</td>\n",
              "      <td>0.080758</td>\n",
              "      <td>0.866005</td>\n",
              "      <td>0.214064</td>\n",
              "      <td>0.923659</td>\n",
              "      <td>0.309434</td>\n",
              "      <td>0.751119</td>\n",
              "      <td>0.104524</td>\n",
              "      <td>0.348572</td>\n",
              "      <td>0.070768</td>\n",
              "      <td>0.311598</td>\n",
              "      <td>0.052807</td>\n",
              "      <td>0.637994</td>\n",
              "      <td>0.314602</td>\n",
              "      <td>0.316412</td>\n",
              "      <td>0.136951</td>\n",
              "      <td>0.525661</td>\n",
              "      <td>0.244894</td>\n",
              "      <td>0.681459</td>\n",
              "      <td>0.219856</td>\n",
              "      <td>0.511228</td>\n",
              "      <td>0.325621</td>\n",
              "      <td>0.419834</td>\n",
              "      <td>0.138151</td>\n",
              "      <td>0.797990</td>\n",
              "      <td>0.128826</td>\n",
              "      <td>0.670286</td>\n",
              "      <td>0.148789</td>\n",
              "      <td>0.595490</td>\n",
              "      <td>0.152472</td>\n",
              "      <td>0.468925</td>\n",
              "      <td>0.262684</td>\n",
              "      <td>0.373359</td>\n",
              "      <td>0.181350</td>\n",
              "      <td>...</td>\n",
              "      <td>0.884015</td>\n",
              "      <td>0.558728</td>\n",
              "      <td>0.540984</td>\n",
              "      <td>0.588148</td>\n",
              "      <td>0.827413</td>\n",
              "      <td>0.660372</td>\n",
              "      <td>0.730973</td>\n",
              "      <td>0.641226</td>\n",
              "      <td>0.674664</td>\n",
              "      <td>0.640932</td>\n",
              "      <td>0.715112</td>\n",
              "      <td>0.615020</td>\n",
              "      <td>0.674664</td>\n",
              "      <td>0.674664</td>\n",
              "      <td>0.872223</td>\n",
              "      <td>0.634653</td>\n",
              "      <td>0.959445</td>\n",
              "      <td>0.617822</td>\n",
              "      <td>1.000239</td>\n",
              "      <td>0.709532</td>\n",
              "      <td>0.756031</td>\n",
              "      <td>0.717119</td>\n",
              "      <td>0.855831</td>\n",
              "      <td>0.706985</td>\n",
              "      <td>0.808121</td>\n",
              "      <td>0.720288</td>\n",
              "      <td>0.974650</td>\n",
              "      <td>0.725855</td>\n",
              "      <td>0.836232</td>\n",
              "      <td>0.791940</td>\n",
              "      <td>0.776853</td>\n",
              "      <td>0.763407</td>\n",
              "      <td>0.847196</td>\n",
              "      <td>0.882475</td>\n",
              "      <td>1.015219</td>\n",
              "      <td>0.914004</td>\n",
              "      <td>1.038172</td>\n",
              "      <td>0.943558</td>\n",
              "      <td>1.030776</td>\n",
              "      <td>1.022129</td>\n",
              "    </tr>\n",
              "    <tr>\n",
              "      <th>1</th>\n",
              "      <td>0.038462</td>\n",
              "      <td>0.000000</td>\n",
              "      <td>0.020905</td>\n",
              "      <td>0.039325</td>\n",
              "      <td>0.193005</td>\n",
              "      <td>0.025270</td>\n",
              "      <td>0.270351</td>\n",
              "      <td>0.045650</td>\n",
              "      <td>0.827573</td>\n",
              "      <td>0.176155</td>\n",
              "      <td>0.885223</td>\n",
              "      <td>0.271220</td>\n",
              "      <td>0.712718</td>\n",
              "      <td>0.070768</td>\n",
              "      <td>0.310410</td>\n",
              "      <td>0.045271</td>\n",
              "      <td>0.273686</td>\n",
              "      <td>0.052807</td>\n",
              "      <td>0.599749</td>\n",
              "      <td>0.277101</td>\n",
              "      <td>0.279155</td>\n",
              "      <td>0.106580</td>\n",
              "      <td>0.487707</td>\n",
              "      <td>0.209048</td>\n",
              "      <td>0.643499</td>\n",
              "      <td>0.187145</td>\n",
              "      <td>0.473679</td>\n",
              "      <td>0.289551</td>\n",
              "      <td>0.382981</td>\n",
              "      <td>0.121028</td>\n",
              "      <td>0.760011</td>\n",
              "      <td>0.122951</td>\n",
              "      <td>0.632824</td>\n",
              "      <td>0.158420</td>\n",
              "      <td>0.558309</td>\n",
              "      <td>0.147541</td>\n",
              "      <td>0.432835</td>\n",
              "      <td>0.232830</td>\n",
              "      <td>0.340188</td>\n",
              "      <td>0.181350</td>\n",
              "      <td>...</td>\n",
              "      <td>0.853362</td>\n",
              "      <td>0.546684</td>\n",
              "      <td>0.542349</td>\n",
              "      <td>0.574148</td>\n",
              "      <td>0.800146</td>\n",
              "      <td>0.642201</td>\n",
              "      <td>0.708363</td>\n",
              "      <td>0.626051</td>\n",
              "      <td>0.656889</td>\n",
              "      <td>0.626931</td>\n",
              "      <td>0.694118</td>\n",
              "      <td>0.605322</td>\n",
              "      <td>0.656889</td>\n",
              "      <td>0.656889</td>\n",
              "      <td>0.844651</td>\n",
              "      <td>0.622889</td>\n",
              "      <td>0.929689</td>\n",
              "      <td>0.609384</td>\n",
              "      <td>0.970971</td>\n",
              "      <td>0.693719</td>\n",
              "      <td>0.739212</td>\n",
              "      <td>0.704634</td>\n",
              "      <td>0.833058</td>\n",
              "      <td>0.697506</td>\n",
              "      <td>0.788667</td>\n",
              "      <td>0.709945</td>\n",
              "      <td>0.948497</td>\n",
              "      <td>0.717656</td>\n",
              "      <td>0.817447</td>\n",
              "      <td>0.776853</td>\n",
              "      <td>0.763407</td>\n",
              "      <td>0.751691</td>\n",
              "      <td>0.835770</td>\n",
              "      <td>0.867257</td>\n",
              "      <td>0.995353</td>\n",
              "      <td>0.901784</td>\n",
              "      <td>1.020206</td>\n",
              "      <td>0.934104</td>\n",
              "      <td>1.022129</td>\n",
              "      <td>1.014867</td>\n",
              "    </tr>\n",
              "    <tr>\n",
              "      <th>2</th>\n",
              "      <td>0.020905</td>\n",
              "      <td>0.020905</td>\n",
              "      <td>0.000000</td>\n",
              "      <td>0.057692</td>\n",
              "      <td>0.211697</td>\n",
              "      <td>0.039325</td>\n",
              "      <td>0.288927</td>\n",
              "      <td>0.059976</td>\n",
              "      <td>0.846511</td>\n",
              "      <td>0.193873</td>\n",
              "      <td>0.904181</td>\n",
              "      <td>0.289508</td>\n",
              "      <td>0.731504</td>\n",
              "      <td>0.083619</td>\n",
              "      <td>0.328563</td>\n",
              "      <td>0.050540</td>\n",
              "      <td>0.291358</td>\n",
              "      <td>0.040984</td>\n",
              "      <td>0.618054</td>\n",
              "      <td>0.294113</td>\n",
              "      <td>0.295821</td>\n",
              "      <td>0.116385</td>\n",
              "      <td>0.505413</td>\n",
              "      <td>0.224033</td>\n",
              "      <td>0.661203</td>\n",
              "      <td>0.199074</td>\n",
              "      <td>0.490728</td>\n",
              "      <td>0.304770</td>\n",
              "      <td>0.399103</td>\n",
              "      <td>0.121173</td>\n",
              "      <td>0.777743</td>\n",
              "      <td>0.116354</td>\n",
              "      <td>0.649733</td>\n",
              "      <td>0.144555</td>\n",
              "      <td>0.574837</td>\n",
              "      <td>0.140665</td>\n",
              "      <td>0.448065</td>\n",
              "      <td>0.242385</td>\n",
              "      <td>0.352567</td>\n",
              "      <td>0.172131</td>\n",
              "      <td>...</td>\n",
              "      <td>0.863685</td>\n",
              "      <td>0.544626</td>\n",
              "      <td>0.533134</td>\n",
              "      <td>0.573245</td>\n",
              "      <td>0.807907</td>\n",
              "      <td>0.643854</td>\n",
              "      <td>0.712886</td>\n",
              "      <td>0.625869</td>\n",
              "      <td>0.658301</td>\n",
              "      <td>0.626051</td>\n",
              "      <td>0.697578</td>\n",
              "      <td>0.601959</td>\n",
              "      <td>0.658301</td>\n",
              "      <td>0.658301</td>\n",
              "      <td>0.852638</td>\n",
              "      <td>0.620706</td>\n",
              "      <td>0.939317</td>\n",
              "      <td>0.605322</td>\n",
              "      <td>0.980228</td>\n",
              "      <td>0.693943</td>\n",
              "      <td>0.740059</td>\n",
              "      <td>0.702896</td>\n",
              "      <td>0.837711</td>\n",
              "      <td>0.694058</td>\n",
              "      <td>0.791162</td>\n",
              "      <td>0.706985</td>\n",
              "      <td>0.955477</td>\n",
              "      <td>0.713505</td>\n",
              "      <td>0.819527</td>\n",
              "      <td>0.776664</td>\n",
              "      <td>0.762245</td>\n",
              "      <td>0.749525</td>\n",
              "      <td>0.833460</td>\n",
              "      <td>0.867167</td>\n",
              "      <td>0.998142</td>\n",
              "      <td>0.899942</td>\n",
              "      <td>1.021808</td>\n",
              "      <td>0.930703</td>\n",
              "      <td>1.018297</td>\n",
              "      <td>1.010275</td>\n",
              "    </tr>\n",
              "    <tr>\n",
              "      <th>3</th>\n",
              "      <td>0.077359</td>\n",
              "      <td>0.039325</td>\n",
              "      <td>0.057692</td>\n",
              "      <td>0.000000</td>\n",
              "      <td>0.154064</td>\n",
              "      <td>0.020905</td>\n",
              "      <td>0.231351</td>\n",
              "      <td>0.016393</td>\n",
              "      <td>0.788845</td>\n",
              "      <td>0.136843</td>\n",
              "      <td>0.846511</td>\n",
              "      <td>0.232076</td>\n",
              "      <td>0.673875</td>\n",
              "      <td>0.038011</td>\n",
              "      <td>0.271220</td>\n",
              "      <td>0.038011</td>\n",
              "      <td>0.234380</td>\n",
              "      <td>0.070768</td>\n",
              "      <td>0.560636</td>\n",
              "      <td>0.237795</td>\n",
              "      <td>0.239905</td>\n",
              "      <td>0.076021</td>\n",
              "      <td>0.448417</td>\n",
              "      <td>0.170619</td>\n",
              "      <td>0.604214</td>\n",
              "      <td>0.151619</td>\n",
              "      <td>0.434360</td>\n",
              "      <td>0.250857</td>\n",
              "      <td>0.343851</td>\n",
              "      <td>0.106557</td>\n",
              "      <td>0.720733</td>\n",
              "      <td>0.121028</td>\n",
              "      <td>0.593512</td>\n",
              "      <td>0.169300</td>\n",
              "      <td>0.519054</td>\n",
              "      <td>0.144555</td>\n",
              "      <td>0.394049</td>\n",
              "      <td>0.199724</td>\n",
              "      <td>0.303528</td>\n",
              "      <td>0.181542</td>\n",
              "      <td>...</td>\n",
              "      <td>0.818168</td>\n",
              "      <td>0.529127</td>\n",
              "      <td>0.538311</td>\n",
              "      <td>0.554554</td>\n",
              "      <td>0.767772</td>\n",
              "      <td>0.618364</td>\n",
              "      <td>0.680234</td>\n",
              "      <td>0.605140</td>\n",
              "      <td>0.633392</td>\n",
              "      <td>0.607159</td>\n",
              "      <td>0.667506</td>\n",
              "      <td>0.589857</td>\n",
              "      <td>0.633392</td>\n",
              "      <td>0.633392</td>\n",
              "      <td>0.811982</td>\n",
              "      <td>0.605322</td>\n",
              "      <td>0.895168</td>\n",
              "      <td>0.595156</td>\n",
              "      <td>0.936823</td>\n",
              "      <td>0.672013</td>\n",
              "      <td>0.716445</td>\n",
              "      <td>0.686123</td>\n",
              "      <td>0.804609</td>\n",
              "      <td>0.681963</td>\n",
              "      <td>0.763327</td>\n",
              "      <td>0.693518</td>\n",
              "      <td>0.916962</td>\n",
              "      <td>0.703325</td>\n",
              "      <td>0.792689</td>\n",
              "      <td>0.755667</td>\n",
              "      <td>0.743829</td>\n",
              "      <td>0.733818</td>\n",
              "      <td>0.818008</td>\n",
              "      <td>0.845793</td>\n",
              "      <td>0.969383</td>\n",
              "      <td>0.883143</td>\n",
              "      <td>0.995966</td>\n",
              "      <td>0.918101</td>\n",
              "      <td>1.006792</td>\n",
              "      <td>1.000897</td>\n",
              "    </tr>\n",
              "    <tr>\n",
              "      <th>4</th>\n",
              "      <td>0.231351</td>\n",
              "      <td>0.193005</td>\n",
              "      <td>0.211697</td>\n",
              "      <td>0.154064</td>\n",
              "      <td>0.000000</td>\n",
              "      <td>0.173077</td>\n",
              "      <td>0.077359</td>\n",
              "      <td>0.154064</td>\n",
              "      <td>0.634827</td>\n",
              "      <td>0.025270</td>\n",
              "      <td>0.692502</td>\n",
              "      <td>0.078651</td>\n",
              "      <td>0.519813</td>\n",
              "      <td>0.136843</td>\n",
              "      <td>0.117976</td>\n",
              "      <td>0.174815</td>\n",
              "      <td>0.083619</td>\n",
              "      <td>0.214064</td>\n",
              "      <td>0.406830</td>\n",
              "      <td>0.091301</td>\n",
              "      <td>0.095965</td>\n",
              "      <td>0.128863</td>\n",
              "      <td>0.295821</td>\n",
              "      <td>0.065574</td>\n",
              "      <td>0.451404</td>\n",
              "      <td>0.098025</td>\n",
              "      <td>0.283927</td>\n",
              "      <td>0.118519</td>\n",
              "      <td>0.199074</td>\n",
              "      <td>0.182602</td>\n",
              "      <td>0.567781</td>\n",
              "      <td>0.219856</td>\n",
              "      <td>0.442938</td>\n",
              "      <td>0.282311</td>\n",
              "      <td>0.370165</td>\n",
              "      <td>0.232770</td>\n",
              "      <td>0.253309</td>\n",
              "      <td>0.140665</td>\n",
              "      <td>0.190053</td>\n",
              "      <td>0.267625</td>\n",
              "      <td>...</td>\n",
              "      <td>0.699573</td>\n",
              "      <td>0.509650</td>\n",
              "      <td>0.573105</td>\n",
              "      <td>0.524590</td>\n",
              "      <td>0.666465</td>\n",
              "      <td>0.565610</td>\n",
              "      <td>0.603840</td>\n",
              "      <td>0.566880</td>\n",
              "      <td>0.581772</td>\n",
              "      <td>0.574093</td>\n",
              "      <td>0.599306</td>\n",
              "      <td>0.576664</td>\n",
              "      <td>0.581772</td>\n",
              "      <td>0.581772</td>\n",
              "      <td>0.708363</td>\n",
              "      <td>0.582285</td>\n",
              "      <td>0.779927</td>\n",
              "      <td>0.587029</td>\n",
              "      <td>0.823413</td>\n",
              "      <td>0.627682</td>\n",
              "      <td>0.665812</td>\n",
              "      <td>0.656020</td>\n",
              "      <td>0.723892</td>\n",
              "      <td>0.665048</td>\n",
              "      <td>0.699101</td>\n",
              "      <td>0.672406</td>\n",
              "      <td>0.818353</td>\n",
              "      <td>0.690937</td>\n",
              "      <td>0.730679</td>\n",
              "      <td>0.711446</td>\n",
              "      <td>0.707275</td>\n",
              "      <td>0.705180</td>\n",
              "      <td>0.787825</td>\n",
              "      <td>0.798317</td>\n",
              "      <td>0.898584</td>\n",
              "      <td>0.847759</td>\n",
              "      <td>0.933126</td>\n",
              "      <td>0.893650</td>\n",
              "      <td>0.983795</td>\n",
              "      <td>0.983795</td>\n",
              "    </tr>\n",
              "    <tr>\n",
              "      <th>...</th>\n",
              "      <td>...</td>\n",
              "      <td>...</td>\n",
              "      <td>...</td>\n",
              "      <td>...</td>\n",
              "      <td>...</td>\n",
              "      <td>...</td>\n",
              "      <td>...</td>\n",
              "      <td>...</td>\n",
              "      <td>...</td>\n",
              "      <td>...</td>\n",
              "      <td>...</td>\n",
              "      <td>...</td>\n",
              "      <td>...</td>\n",
              "      <td>...</td>\n",
              "      <td>...</td>\n",
              "      <td>...</td>\n",
              "      <td>...</td>\n",
              "      <td>...</td>\n",
              "      <td>...</td>\n",
              "      <td>...</td>\n",
              "      <td>...</td>\n",
              "      <td>...</td>\n",
              "      <td>...</td>\n",
              "      <td>...</td>\n",
              "      <td>...</td>\n",
              "      <td>...</td>\n",
              "      <td>...</td>\n",
              "      <td>...</td>\n",
              "      <td>...</td>\n",
              "      <td>...</td>\n",
              "      <td>...</td>\n",
              "      <td>...</td>\n",
              "      <td>...</td>\n",
              "      <td>...</td>\n",
              "      <td>...</td>\n",
              "      <td>...</td>\n",
              "      <td>...</td>\n",
              "      <td>...</td>\n",
              "      <td>...</td>\n",
              "      <td>...</td>\n",
              "      <td>...</td>\n",
              "      <td>...</td>\n",
              "      <td>...</td>\n",
              "      <td>...</td>\n",
              "      <td>...</td>\n",
              "      <td>...</td>\n",
              "      <td>...</td>\n",
              "      <td>...</td>\n",
              "      <td>...</td>\n",
              "      <td>...</td>\n",
              "      <td>...</td>\n",
              "      <td>...</td>\n",
              "      <td>...</td>\n",
              "      <td>...</td>\n",
              "      <td>...</td>\n",
              "      <td>...</td>\n",
              "      <td>...</td>\n",
              "      <td>...</td>\n",
              "      <td>...</td>\n",
              "      <td>...</td>\n",
              "      <td>...</td>\n",
              "      <td>...</td>\n",
              "      <td>...</td>\n",
              "      <td>...</td>\n",
              "      <td>...</td>\n",
              "      <td>...</td>\n",
              "      <td>...</td>\n",
              "      <td>...</td>\n",
              "      <td>...</td>\n",
              "      <td>...</td>\n",
              "      <td>...</td>\n",
              "      <td>...</td>\n",
              "      <td>...</td>\n",
              "      <td>...</td>\n",
              "      <td>...</td>\n",
              "      <td>...</td>\n",
              "      <td>...</td>\n",
              "      <td>...</td>\n",
              "      <td>...</td>\n",
              "      <td>...</td>\n",
              "      <td>...</td>\n",
              "    </tr>\n",
              "    <tr>\n",
              "      <th>195</th>\n",
              "      <td>0.914004</td>\n",
              "      <td>0.901784</td>\n",
              "      <td>0.899942</td>\n",
              "      <td>0.883143</td>\n",
              "      <td>0.847759</td>\n",
              "      <td>0.880499</td>\n",
              "      <td>0.836066</td>\n",
              "      <td>0.867329</td>\n",
              "      <td>0.998192</td>\n",
              "      <td>0.833434</td>\n",
              "      <td>1.031535</td>\n",
              "      <td>0.827869</td>\n",
              "      <td>0.931396</td>\n",
              "      <td>0.846529</td>\n",
              "      <td>0.820574</td>\n",
              "      <td>0.856949</td>\n",
              "      <td>0.811475</td>\n",
              "      <td>0.861221</td>\n",
              "      <td>0.859671</td>\n",
              "      <td>0.795082</td>\n",
              "      <td>0.786885</td>\n",
              "      <td>0.810044</td>\n",
              "      <td>0.806910</td>\n",
              "      <td>0.782479</td>\n",
              "      <td>0.837956</td>\n",
              "      <td>0.762875</td>\n",
              "      <td>0.778233</td>\n",
              "      <td>0.754098</td>\n",
              "      <td>0.752074</td>\n",
              "      <td>0.780784</td>\n",
              "      <td>0.880538</td>\n",
              "      <td>0.785299</td>\n",
              "      <td>0.792689</td>\n",
              "      <td>0.784482</td>\n",
              "      <td>0.762245</td>\n",
              "      <td>0.762245</td>\n",
              "      <td>0.717656</td>\n",
              "      <td>0.711446</td>\n",
              "      <td>0.680600</td>\n",
              "      <td>0.738956</td>\n",
              "      <td>...</td>\n",
              "      <td>0.525387</td>\n",
              "      <td>0.355322</td>\n",
              "      <td>0.443695</td>\n",
              "      <td>0.328797</td>\n",
              "      <td>0.406833</td>\n",
              "      <td>0.287529</td>\n",
              "      <td>0.309497</td>\n",
              "      <td>0.281330</td>\n",
              "      <td>0.271175</td>\n",
              "      <td>0.276576</td>\n",
              "      <td>0.287074</td>\n",
              "      <td>0.302138</td>\n",
              "      <td>0.271175</td>\n",
              "      <td>0.271175</td>\n",
              "      <td>0.419139</td>\n",
              "      <td>0.279364</td>\n",
              "      <td>0.514232</td>\n",
              "      <td>0.304084</td>\n",
              "      <td>0.511856</td>\n",
              "      <td>0.221311</td>\n",
              "      <td>0.192408</td>\n",
              "      <td>0.197155</td>\n",
              "      <td>0.277969</td>\n",
              "      <td>0.214084</td>\n",
              "      <td>0.207226</td>\n",
              "      <td>0.197167</td>\n",
              "      <td>0.397190</td>\n",
              "      <td>0.205853</td>\n",
              "      <td>0.180916</td>\n",
              "      <td>0.140665</td>\n",
              "      <td>0.140665</td>\n",
              "      <td>0.150815</td>\n",
              "      <td>0.069075</td>\n",
              "      <td>0.081367</td>\n",
              "      <td>0.230769</td>\n",
              "      <td>0.000000</td>\n",
              "      <td>0.198497</td>\n",
              "      <td>0.075810</td>\n",
              "      <td>0.150815</td>\n",
              "      <td>0.169300</td>\n",
              "    </tr>\n",
              "    <tr>\n",
              "      <th>196</th>\n",
              "      <td>1.038172</td>\n",
              "      <td>1.020206</td>\n",
              "      <td>1.021808</td>\n",
              "      <td>0.995966</td>\n",
              "      <td>0.933126</td>\n",
              "      <td>0.996933</td>\n",
              "      <td>0.905893</td>\n",
              "      <td>0.981150</td>\n",
              "      <td>0.950116</td>\n",
              "      <td>0.923269</td>\n",
              "      <td>0.973760</td>\n",
              "      <td>0.897885</td>\n",
              "      <td>0.904104</td>\n",
              "      <td>0.958121</td>\n",
              "      <td>0.882368</td>\n",
              "      <td>0.974957</td>\n",
              "      <td>0.881879</td>\n",
              "      <td>0.985833</td>\n",
              "      <td>0.854927</td>\n",
              "      <td>0.865887</td>\n",
              "      <td>0.857897</td>\n",
              "      <td>0.920291</td>\n",
              "      <td>0.828092</td>\n",
              "      <td>0.870547</td>\n",
              "      <td>0.821713</td>\n",
              "      <td>0.860193</td>\n",
              "      <td>0.803279</td>\n",
              "      <td>0.825978</td>\n",
              "      <td>0.800875</td>\n",
              "      <td>0.900638</td>\n",
              "      <td>0.838092</td>\n",
              "      <td>0.912253</td>\n",
              "      <td>0.777665</td>\n",
              "      <td>0.922331</td>\n",
              "      <td>0.766166</td>\n",
              "      <td>0.891129</td>\n",
              "      <td>0.756302</td>\n",
              "      <td>0.807387</td>\n",
              "      <td>0.749759</td>\n",
              "      <td>0.873683</td>\n",
              "      <td>...</td>\n",
              "      <td>0.439503</td>\n",
              "      <td>0.493041</td>\n",
              "      <td>0.621331</td>\n",
              "      <td>0.456659</td>\n",
              "      <td>0.349551</td>\n",
              "      <td>0.378015</td>\n",
              "      <td>0.332906</td>\n",
              "      <td>0.400939</td>\n",
              "      <td>0.363519</td>\n",
              "      <td>0.405820</td>\n",
              "      <td>0.333820</td>\n",
              "      <td>0.457241</td>\n",
              "      <td>0.363519</td>\n",
              "      <td>0.363519</td>\n",
              "      <td>0.339320</td>\n",
              "      <td>0.424531</td>\n",
              "      <td>0.399396</td>\n",
              "      <td>0.465660</td>\n",
              "      <td>0.381643</td>\n",
              "      <td>0.331886</td>\n",
              "      <td>0.283147</td>\n",
              "      <td>0.344969</td>\n",
              "      <td>0.230312</td>\n",
              "      <td>0.383860</td>\n",
              "      <td>0.234299</td>\n",
              "      <td>0.363578</td>\n",
              "      <td>0.268229</td>\n",
              "      <td>0.385837</td>\n",
              "      <td>0.203614</td>\n",
              "      <td>0.255924</td>\n",
              "      <td>0.283355</td>\n",
              "      <td>0.313116</td>\n",
              "      <td>0.254183</td>\n",
              "      <td>0.171685</td>\n",
              "      <td>0.062434</td>\n",
              "      <td>0.198497</td>\n",
              "      <td>0.000000</td>\n",
              "      <td>0.250000</td>\n",
              "      <td>0.265762</td>\n",
              "      <td>0.302224</td>\n",
              "    </tr>\n",
              "    <tr>\n",
              "      <th>197</th>\n",
              "      <td>0.943558</td>\n",
              "      <td>0.934104</td>\n",
              "      <td>0.930703</td>\n",
              "      <td>0.918101</td>\n",
              "      <td>0.893650</td>\n",
              "      <td>0.913905</td>\n",
              "      <td>0.887124</td>\n",
              "      <td>0.902007</td>\n",
              "      <td>1.071407</td>\n",
              "      <td>0.877892</td>\n",
              "      <td>1.105553</td>\n",
              "      <td>0.878945</td>\n",
              "      <td>1.002449</td>\n",
              "      <td>0.882368</td>\n",
              "      <td>0.874157</td>\n",
              "      <td>0.889880</td>\n",
              "      <td>0.862587</td>\n",
              "      <td>0.891057</td>\n",
              "      <td>0.927743</td>\n",
              "      <td>0.846231</td>\n",
              "      <td>0.838054</td>\n",
              "      <td>0.846833</td>\n",
              "      <td>0.870547</td>\n",
              "      <td>0.828092</td>\n",
              "      <td>0.907883</td>\n",
              "      <td>0.805348</td>\n",
              "      <td>0.841283</td>\n",
              "      <td>0.805348</td>\n",
              "      <td>0.809830</td>\n",
              "      <td>0.813702</td>\n",
              "      <td>0.953483</td>\n",
              "      <td>0.814823</td>\n",
              "      <td>0.862662</td>\n",
              "      <td>0.808442</td>\n",
              "      <td>0.829441</td>\n",
              "      <td>0.791102</td>\n",
              "      <td>0.778233</td>\n",
              "      <td>0.755079</td>\n",
              "      <td>0.733553</td>\n",
              "      <td>0.765138</td>\n",
              "      <td>...</td>\n",
              "      <td>0.601192</td>\n",
              "      <td>0.389542</td>\n",
              "      <td>0.445592</td>\n",
              "      <td>0.369353</td>\n",
              "      <td>0.482455</td>\n",
              "      <td>0.344757</td>\n",
              "      <td>0.380106</td>\n",
              "      <td>0.328432</td>\n",
              "      <td>0.328797</td>\n",
              "      <td>0.319672</td>\n",
              "      <td>0.354766</td>\n",
              "      <td>0.328797</td>\n",
              "      <td>0.328797</td>\n",
              "      <td>0.328797</td>\n",
              "      <td>0.494920</td>\n",
              "      <td>0.313841</td>\n",
              "      <td>0.589081</td>\n",
              "      <td>0.325979</td>\n",
              "      <td>0.585463</td>\n",
              "      <td>0.276576</td>\n",
              "      <td>0.256416</td>\n",
              "      <td>0.237705</td>\n",
              "      <td>0.353778</td>\n",
              "      <td>0.236648</td>\n",
              "      <td>0.280953</td>\n",
              "      <td>0.224629</td>\n",
              "      <td>0.470091</td>\n",
              "      <td>0.218880</td>\n",
              "      <td>0.255924</td>\n",
              "      <td>0.203614</td>\n",
              "      <td>0.192408</td>\n",
              "      <td>0.188525</td>\n",
              "      <td>0.108279</td>\n",
              "      <td>0.157061</td>\n",
              "      <td>0.292624</td>\n",
              "      <td>0.075810</td>\n",
              "      <td>0.250000</td>\n",
              "      <td>0.000000</td>\n",
              "      <td>0.090164</td>\n",
              "      <td>0.098025</td>\n",
              "    </tr>\n",
              "    <tr>\n",
              "      <th>198</th>\n",
              "      <td>1.030776</td>\n",
              "      <td>1.022129</td>\n",
              "      <td>1.018297</td>\n",
              "      <td>1.006792</td>\n",
              "      <td>0.983795</td>\n",
              "      <td>1.002230</td>\n",
              "      <td>0.977115</td>\n",
              "      <td>0.990646</td>\n",
              "      <td>1.146385</td>\n",
              "      <td>0.967978</td>\n",
              "      <td>1.178361</td>\n",
              "      <td>0.968932</td>\n",
              "      <td>1.081532</td>\n",
              "      <td>0.971278</td>\n",
              "      <td>0.963825</td>\n",
              "      <td>0.978108</td>\n",
              "      <td>0.952568</td>\n",
              "      <td>0.978423</td>\n",
              "      <td>1.010486</td>\n",
              "      <td>0.936206</td>\n",
              "      <td>0.928025</td>\n",
              "      <td>0.935961</td>\n",
              "      <td>0.956697</td>\n",
              "      <td>0.918234</td>\n",
              "      <td>0.988551</td>\n",
              "      <td>0.895303</td>\n",
              "      <td>0.927761</td>\n",
              "      <td>0.895303</td>\n",
              "      <td>0.898515</td>\n",
              "      <td>0.902007</td>\n",
              "      <td>1.029153</td>\n",
              "      <td>0.902199</td>\n",
              "      <td>0.943280</td>\n",
              "      <td>0.893964</td>\n",
              "      <td>0.912998</td>\n",
              "      <td>0.878314</td>\n",
              "      <td>0.865887</td>\n",
              "      <td>0.845138</td>\n",
              "      <td>0.823274</td>\n",
              "      <td>0.851538</td>\n",
              "      <td>...</td>\n",
              "      <td>0.662595</td>\n",
              "      <td>0.478898</td>\n",
              "      <td>0.522682</td>\n",
              "      <td>0.459419</td>\n",
              "      <td>0.549085</td>\n",
              "      <td>0.433115</td>\n",
              "      <td>0.460145</td>\n",
              "      <td>0.418475</td>\n",
              "      <td>0.416993</td>\n",
              "      <td>0.409836</td>\n",
              "      <td>0.437760</td>\n",
              "      <td>0.416993</td>\n",
              "      <td>0.416993</td>\n",
              "      <td>0.416993</td>\n",
              "      <td>0.556096</td>\n",
              "      <td>0.403477</td>\n",
              "      <td>0.641338</td>\n",
              "      <td>0.412989</td>\n",
              "      <td>0.632197</td>\n",
              "      <td>0.365241</td>\n",
              "      <td>0.341678</td>\n",
              "      <td>0.327869</td>\n",
              "      <td>0.417942</td>\n",
              "      <td>0.324836</td>\n",
              "      <td>0.356332</td>\n",
              "      <td>0.313841</td>\n",
              "      <td>0.515817</td>\n",
              "      <td>0.304943</td>\n",
              "      <td>0.328059</td>\n",
              "      <td>0.289110</td>\n",
              "      <td>0.281330</td>\n",
              "      <td>0.278689</td>\n",
              "      <td>0.197659</td>\n",
              "      <td>0.228063</td>\n",
              "      <td>0.320354</td>\n",
              "      <td>0.150815</td>\n",
              "      <td>0.265762</td>\n",
              "      <td>0.090164</td>\n",
              "      <td>0.000000</td>\n",
              "      <td>0.038462</td>\n",
              "    </tr>\n",
              "    <tr>\n",
              "      <th>199</th>\n",
              "      <td>1.022129</td>\n",
              "      <td>1.014867</td>\n",
              "      <td>1.010275</td>\n",
              "      <td>1.000897</td>\n",
              "      <td>0.983795</td>\n",
              "      <td>0.995565</td>\n",
              "      <td>0.980138</td>\n",
              "      <td>0.984655</td>\n",
              "      <td>1.167483</td>\n",
              "      <td>0.967213</td>\n",
              "      <td>1.200745</td>\n",
              "      <td>0.971981</td>\n",
              "      <td>1.099842</td>\n",
              "      <td>0.965933</td>\n",
              "      <td>0.968418</td>\n",
              "      <td>0.971278</td>\n",
              "      <td>0.955669</td>\n",
              "      <td>0.970072</td>\n",
              "      <td>1.025742</td>\n",
              "      <td>0.939360</td>\n",
              "      <td>0.931207</td>\n",
              "      <td>0.931207</td>\n",
              "      <td>0.968225</td>\n",
              "      <td>0.918234</td>\n",
              "      <td>1.005613</td>\n",
              "      <td>0.893650</td>\n",
              "      <td>0.938856</td>\n",
              "      <td>0.898602</td>\n",
              "      <td>0.905893</td>\n",
              "      <td>0.895423</td>\n",
              "      <td>1.049788</td>\n",
              "      <td>0.893964</td>\n",
              "      <td>0.960376</td>\n",
              "      <td>0.883143</td>\n",
              "      <td>0.927466</td>\n",
              "      <td>0.869852</td>\n",
              "      <td>0.875233</td>\n",
              "      <td>0.844262</td>\n",
              "      <td>0.827754</td>\n",
              "      <td>0.841929</td>\n",
              "      <td>...</td>\n",
              "      <td>0.689938</td>\n",
              "      <td>0.475799</td>\n",
              "      <td>0.505415</td>\n",
              "      <td>0.459419</td>\n",
              "      <td>0.574109</td>\n",
              "      <td>0.441571</td>\n",
              "      <td>0.477500</td>\n",
              "      <td>0.421995</td>\n",
              "      <td>0.425769</td>\n",
              "      <td>0.411637</td>\n",
              "      <td>0.452712</td>\n",
              "      <td>0.411637</td>\n",
              "      <td>0.425769</td>\n",
              "      <td>0.425769</td>\n",
              "      <td>0.583359</td>\n",
              "      <td>0.401639</td>\n",
              "      <td>0.671755</td>\n",
              "      <td>0.405762</td>\n",
              "      <td>0.664149</td>\n",
              "      <td>0.373253</td>\n",
              "      <td>0.354428</td>\n",
              "      <td>0.330117</td>\n",
              "      <td>0.443695</td>\n",
              "      <td>0.320250</td>\n",
              "      <td>0.376518</td>\n",
              "      <td>0.311475</td>\n",
              "      <td>0.547806</td>\n",
              "      <td>0.297578</td>\n",
              "      <td>0.349880</td>\n",
              "      <td>0.301630</td>\n",
              "      <td>0.289110</td>\n",
              "      <td>0.281330</td>\n",
              "      <td>0.205007</td>\n",
              "      <td>0.249736</td>\n",
              "      <td>0.355381</td>\n",
              "      <td>0.169300</td>\n",
              "      <td>0.302224</td>\n",
              "      <td>0.098025</td>\n",
              "      <td>0.038462</td>\n",
              "      <td>0.000000</td>\n",
              "    </tr>\n",
              "  </tbody>\n",
              "</table>\n",
              "<p>200 rows × 200 columns</p>\n",
              "</div>"
            ],
            "text/plain": [
              "          0         1         2    ...       197       198       199\n",
              "0    0.000000  0.038462  0.020905  ...  0.943558  1.030776  1.022129\n",
              "1    0.038462  0.000000  0.020905  ...  0.934104  1.022129  1.014867\n",
              "2    0.020905  0.020905  0.000000  ...  0.930703  1.018297  1.010275\n",
              "3    0.077359  0.039325  0.057692  ...  0.918101  1.006792  1.000897\n",
              "4    0.231351  0.193005  0.211697  ...  0.893650  0.983795  0.983795\n",
              "..        ...       ...       ...  ...       ...       ...       ...\n",
              "195  0.914004  0.901784  0.899942  ...  0.075810  0.150815  0.169300\n",
              "196  1.038172  1.020206  1.021808  ...  0.250000  0.265762  0.302224\n",
              "197  0.943558  0.934104  0.930703  ...  0.000000  0.090164  0.098025\n",
              "198  1.030776  1.022129  1.018297  ...  0.090164  0.000000  0.038462\n",
              "199  1.022129  1.014867  1.010275  ...  0.098025  0.038462  0.000000\n",
              "\n",
              "[200 rows x 200 columns]"
            ]
          },
          "metadata": {},
          "execution_count": 95
        }
      ]
    },
    {
      "cell_type": "markdown",
      "metadata": {
        "id": "FNvvB-a9LhId"
      },
      "source": [
        "***DB Scan clustering ***"
      ]
    },
    {
      "cell_type": "markdown",
      "metadata": {
        "id": "VnP_TnsdLrmf"
      },
      "source": [
        "Most of the traditional clustering techniques, such as k-means, hierarchical and fuzzy clustering, can be used to group data without supervision.\n",
        "\n",
        "However, when applied to tasks with arbitrary shape clusters, or clusters within cluster, the traditional techniques might be unable to achieve good results. That is, elements in the same cluster might not share enough similarity or the performance may be poor. Additionally, Density-based Clustering locates regions of high density that are separated from one another by regions of low density. Density, in this context, is defined as the number of points within a specified radius.\n",
        "\n"
      ]
    },
    {
      "cell_type": "markdown",
      "metadata": {
        "id": "-QilAFkqL3Tj"
      },
      "source": [
        "It works based on two parameters: Epsilon and Minimum Points\n",
        "Epsilon determine a specified radius that if includes enough number of points within, we call it dense area.    \n",
        "\n",
        "minimumSamples determine the minimum number of data points we want in a neighborhood to define a cluster."
      ]
    },
    {
      "cell_type": "code",
      "metadata": {
        "colab": {
          "base_uri": "https://localhost:8080/",
          "height": 602
        },
        "id": "jItRQFvYL4Kp",
        "outputId": "829a7ec6-a226-447f-ba0d-ea02411e0c71"
      },
      "source": [
        "from sklearn.cluster import DBSCAN \n",
        "\n",
        "db = DBSCAN(eps=9, min_samples=10).fit(df[['Age','Annual Income (k$)']])\n",
        "\n",
        "df['Labels'] = db.labels_\n",
        "plt.figure(figsize=(12, 8))\n",
        "sns.scatterplot(df.Age, df['Annual Income (k$)'], hue=df['Labels'], \n",
        "                palette=sns.color_palette('hls', np.unique(db.labels_).shape[0]))\n",
        "plt.title('DBSCAN with epsilon 11, min samples 6')\n",
        "plt.show()"
      ],
      "execution_count": null,
      "outputs": [
        {
          "output_type": "stream",
          "name": "stderr",
          "text": [
            "/usr/local/lib/python3.7/dist-packages/seaborn/_decorators.py:43: FutureWarning:\n",
            "\n",
            "Pass the following variables as keyword args: x, y. From version 0.12, the only valid positional argument will be `data`, and passing other arguments without an explicit keyword will result in an error or misinterpretation.\n",
            "\n"
          ]
        },
        {
          "output_type": "display_data",
          "data": {
            "image/png": "[encoded data removed]",
            "text/plain": [
              "<Figure size 864x576 with 1 Axes>"
            ]
          },
          "metadata": {
            "needs_background": "light"
          }
        }
      ]
    },
    {
      "cell_type": "code",
      "metadata": {
        "id": "9gkKG8_uROb7"
      },
      "source": [
        "from sklearn import metrics\n",
        "from sklearn.datasets import make_blobs\n",
        "from sklearn.preprocessing import StandardScaler\n",
        "\n",
        "# Generate sample data\n",
        "centers = [[1, 1], [-1, -1], [1, -1]]\n",
        "X, labels_true = make_blobs(n_samples=750, centers=centers, cluster_std=0.4,\n",
        "                            random_state=0)\n",
        "\n",
        "X = StandardScaler().fit_transform(X)\n"
      ],
      "execution_count": 102,
      "outputs": []
    },
    {
      "cell_type": "code",
      "metadata": {
        "id": "L0DCiDObRrwE"
      },
      "source": [
        "# Compute DBSCAN\n",
        "db = DBSCAN(eps=0.3, min_samples=10).fit(X)\n",
        "core_samples_mask = np.zeros_like(db.labels_, dtype=bool)\n",
        "core_samples_mask[db.core_sample_indices_] = True\n",
        "labels = db.labels_"
      ],
      "execution_count": 103,
      "outputs": []
    },
    {
      "cell_type": "code",
      "metadata": {
        "id": "3E8WOrivRvIX"
      },
      "source": [
        "# Number of clusters in labels, ignoring noise if present.\n",
        "n_clusters_ = len(set(labels)) - (1 if -1 in labels else 0)\n",
        "n_noise_ = list(labels).count(-1)"
      ],
      "execution_count": 104,
      "outputs": []
    },
    {
      "cell_type": "code",
      "metadata": {
        "colab": {
          "base_uri": "https://localhost:8080/"
        },
        "id": "es7k51hjRyJ0",
        "outputId": "3fad8962-d03a-43ba-bb8b-b845728761b2"
      },
      "source": [
        "print('Estimated number of clusters: %d' % n_clusters_)\n",
        "print('Estimated number of noise points: %d' % n_noise_)\n",
        "print(\"Homogeneity: %0.3f\" % metrics.homogeneity_score(labels_true, labels))\n",
        "print(\"Completeness: %0.3f\" % metrics.completeness_score(labels_true, labels))\n",
        "print(\"V-measure: %0.3f\" % metrics.v_measure_score(labels_true, labels))\n",
        "print(\"Adjusted Rand Index: %0.3f\"\n",
        "      % metrics.adjusted_rand_score(labels_true, labels))\n",
        "print(\"Adjusted Mutual Information: %0.3f\"\n",
        "      % metrics.adjusted_mutual_info_score(labels_true, labels))\n",
        "print(\"Silhouette Coefficient: %0.3f\"\n",
        "      % metrics.silhouette_score(X, labels))"
      ],
      "execution_count": 105,
      "outputs": [
        {
          "output_type": "stream",
          "name": "stdout",
          "text": [
            "Estimated number of clusters: 3\n",
            "Estimated number of noise points: 18\n",
            "Homogeneity: 0.953\n",
            "Completeness: 0.883\n",
            "V-measure: 0.917\n",
            "Adjusted Rand Index: 0.952\n",
            "Adjusted Mutual Information: 0.916\n",
            "Silhouette Coefficient: 0.626\n"
          ]
        }
      ]
    },
    {
      "cell_type": "code",
      "metadata": {
        "colab": {
          "base_uri": "https://localhost:8080/",
          "height": 281
        },
        "id": "t6CF9gnXR1bv",
        "outputId": "ef7d2bab-b12f-4e31-d74a-5c8cbe1cdac1"
      },
      "source": [
        "# Black removed and is used for noise instead.\n",
        "unique_labels = set(labels)\n",
        "colors = [plt.cm.Spectral(each)\n",
        "          for each in np.linspace(0, 1, len(unique_labels))]\n",
        "for k, col in zip(unique_labels, colors):\n",
        "    if k == -1:\n",
        "        # Black used for noise.\n",
        "        col = [0, 0, 0, 1]\n",
        "\n",
        "    class_member_mask = (labels == k)\n",
        "\n",
        "    xy = X[class_member_mask & core_samples_mask]\n",
        "    plt.plot(xy[:, 0], xy[:, 1], 'o', markerfacecolor=tuple(col),\n",
        "             markeredgecolor='k', markersize=14)\n",
        "\n",
        "    xy = X[class_member_mask & ~core_samples_mask]\n",
        "    plt.plot(xy[:, 0], xy[:, 1], 'o', markerfacecolor=tuple(col),\n",
        "             markeredgecolor='k', markersize=6)\n",
        "\n",
        "plt.title('Estimated number of clusters: %d' % n_clusters_)\n",
        "plt.show()"
      ],
      "execution_count": 106,
      "outputs": [
        {
          "output_type": "display_data",
          "data": {
            "image/png": "[encoded data removed]",
            "text/plain": [
              "<Figure size 432x288 with 1 Axes>"
            ]
          },
          "metadata": {
            "needs_background": "light"
          }
        }
      ]
    },
    {
      "cell_type": "markdown",
      "metadata": {
        "id": "Xga_KrwmNWNC"
      },
      "source": [
        "**Gaussian mixture models clustering**"
      ]
    },
    {
      "cell_type": "markdown",
      "metadata": {
        "id": "CnTvdpRdP474"
      },
      "source": [
        " a Gaussian mixture model is very similar to k-means: it uses an expectation–maximization approach which qualitatively does the following:\n",
        "\n",
        "Choose starting guesses for the location and shape\n",
        "\n",
        "Repeat until converged:\n",
        "\n",
        "E-step: for each point, find weights encoding the probability of membership in each cluster\n",
        "M-step: for each cluster, update its location, normalization, and shape based on all data points, making use of the weights\n",
        "The result of this is that each cluster is associated not with a hard-edged sphere, but with a smooth Gaussian model. Just as in the k-means expectation–maximization approach, this algorithm can sometimes miss the globally optimal solution, and thus in practice multiple random initializations are used."
      ]
    },
    {
      "cell_type": "code",
      "metadata": {
        "colab": {
          "base_uri": "https://localhost:8080/",
          "height": 282
        },
        "id": "lPbuTbYyLeVk",
        "outputId": "8f23d475-9318-4fb2-a6e5-79afbe620ecb"
      },
      "source": [
        "from sklearn import mixture\n",
        "\n",
        "gmm = mixture.GaussianMixture(n_components=4).fit(df[['Age','Annual Income (k$)']])\n",
        "labels = gmm.predict(df[['Age','Annual Income (k$)']])\n",
        "plt.scatter(df.Age, df['Annual Income (k$)'], c=labels, s= 80, cmap='rainbow')  "
      ],
      "execution_count": null,
      "outputs": [
        {
          "output_type": "execute_result",
          "data": {
            "text/plain": [
              "<matplotlib.collections.PathCollection at 0x7f48179979d0>"
            ]
          },
          "metadata": {},
          "execution_count": 97
        },
        {
          "output_type": "display_data",
          "data": {
            "image/png": "[encoded data removed]",
            "text/plain": [
              "<Figure size 432x288 with 1 Axes>"
            ]
          },
          "metadata": {
            "needs_background": "light"
          }
        }
      ]
    },
    {
      "cell_type": "code",
      "metadata": {
        "colab": {
          "base_uri": "https://localhost:8080/"
        },
        "id": "UK5THYnlPPHC",
        "outputId": "f8de9c7d-682c-4782-afeb-c9e6fae40e39"
      },
      "source": [
        "probs = gmm.predict_proba(df[['Age','Annual Income (k$)']])\n",
        "print(probs[:5].round(3))"
      ],
      "execution_count": null,
      "outputs": [
        {
          "output_type": "stream",
          "name": "stdout",
          "text": [
            "[[0.    0.983 0.016 0.   ]\n",
            " [0.    0.987 0.013 0.   ]\n",
            " [0.    0.984 0.015 0.   ]\n",
            " [0.001 0.989 0.011 0.   ]\n",
            " [0.009 0.985 0.004 0.003]]\n"
          ]
        }
      ]
    },
    {
      "cell_type": "code",
      "metadata": {
        "colab": {
          "base_uri": "https://localhost:8080/",
          "height": 282
        },
        "id": "p7g5-MacPcT_",
        "outputId": "78fb8573-78ca-4192-f02b-67b955e69e80"
      },
      "source": [
        "size = 50 * probs.max(1) ** 2  # square emphasizes differences\n",
        "plt.scatter(df.Age, df['Annual Income (k$)'], c=labels, s= 80, cmap='rainbow')  \n"
      ],
      "execution_count": null,
      "outputs": [
        {
          "output_type": "execute_result",
          "data": {
            "text/plain": [
              "<matplotlib.collections.PathCollection at 0x7f482110ff50>"
            ]
          },
          "metadata": {},
          "execution_count": 99
        },
        {
          "output_type": "display_data",
          "data": {
            "image/png": "[encoded data removed]",
            "text/plain": [
              "<Figure size 432x288 with 1 Axes>"
            ]
          },
          "metadata": {
            "needs_background": "light"
          }
        }
      ]
    }
  ]
}